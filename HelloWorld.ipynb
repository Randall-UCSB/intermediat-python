{
 "cells": [
  {
   "cell_type": "markdown",
   "id": "b538190c-fdd4-43ca-9278-0ee515afb20b",
   "metadata": {},
   "source": [
    "# Testing Notebook"
   ]
  },
  {
   "cell_type": "markdown",
   "id": "cb95205b-a627-478d-8dfe-bee7ec18f8c1",
   "metadata": {},
   "source": [
    "## Test the imports"
   ]
  },
  {
   "cell_type": "code",
   "execution_count": 13,
   "id": "f3f0c4e7-c765-4287-91a5-815816099b31",
   "metadata": {
    "execution": {
     "iopub.execute_input": "2025-06-18T14:00:53.629310Z",
     "iopub.status.busy": "2025-06-18T14:00:53.628841Z",
     "iopub.status.idle": "2025-06-18T14:00:53.631687Z",
     "shell.execute_reply": "2025-06-18T14:00:53.631202Z",
     "shell.execute_reply.started": "2025-06-18T14:00:53.629289Z"
    }
   },
   "outputs": [],
   "source": [
    "import pandas as pd\n",
    "import numpy as np"
   ]
  },
  {
   "cell_type": "markdown",
   "id": "3aa7a489-9035-46f0-a0a7-71d457fcc710",
   "metadata": {},
   "source": [
    "## Simple Commands"
   ]
  },
  {
   "cell_type": "code",
   "execution_count": 14,
   "id": "042fffd8-ab6c-4fbc-9001-5eb6f7af78da",
   "metadata": {
    "execution": {
     "iopub.execute_input": "2025-06-18T14:00:53.712416Z",
     "iopub.status.busy": "2025-06-18T14:00:53.712171Z",
     "iopub.status.idle": "2025-06-18T14:00:53.715457Z",
     "shell.execute_reply": "2025-06-18T14:00:53.714964Z",
     "shell.execute_reply.started": "2025-06-18T14:00:53.712397Z"
    }
   },
   "outputs": [
    {
     "name": "stdout",
     "output_type": "stream",
     "text": [
      "Hello World\n"
     ]
    }
   ],
   "source": [
    "print(\"Hello World\")"
   ]
  },
  {
   "cell_type": "code",
   "execution_count": 15,
   "id": "e29c9ebc-b6de-440a-92c8-e2618514b810",
   "metadata": {
    "execution": {
     "iopub.execute_input": "2025-06-18T14:00:53.716318Z",
     "iopub.status.busy": "2025-06-18T14:00:53.716136Z",
     "iopub.status.idle": "2025-06-18T14:00:53.738921Z",
     "shell.execute_reply": "2025-06-18T14:00:53.738247Z",
     "shell.execute_reply.started": "2025-06-18T14:00:53.716300Z"
    }
   },
   "outputs": [
    {
     "name": "stdout",
     "output_type": "stream",
     "text": [
      "2\n"
     ]
    }
   ],
   "source": [
    "print(1 + 1)"
   ]
  },
  {
   "cell_type": "markdown",
   "id": "091db770-97a8-4750-a8be-1241fb25d07b",
   "metadata": {},
   "source": [
    "## Set variables"
   ]
  },
  {
   "cell_type": "code",
   "execution_count": 16,
   "id": "f9c21afc-afb9-411e-a663-a84d076187c9",
   "metadata": {
    "execution": {
     "iopub.execute_input": "2025-06-18T14:00:53.750149Z",
     "iopub.status.busy": "2025-06-18T14:00:53.749924Z",
     "iopub.status.idle": "2025-06-18T14:00:53.764868Z",
     "shell.execute_reply": "2025-06-18T14:00:53.764152Z",
     "shell.execute_reply.started": "2025-06-18T14:00:53.750132Z"
    }
   },
   "outputs": [],
   "source": [
    "username = \"FirstName\"\n",
    "age = 30"
   ]
  },
  {
   "cell_type": "code",
   "execution_count": 17,
   "id": "1d325604-a2ee-425b-9def-75aad9f04465",
   "metadata": {
    "execution": {
     "iopub.execute_input": "2025-06-18T14:00:53.766318Z",
     "iopub.status.busy": "2025-06-18T14:00:53.765739Z",
     "iopub.status.idle": "2025-06-18T14:00:53.788658Z",
     "shell.execute_reply": "2025-06-18T14:00:53.787917Z",
     "shell.execute_reply.started": "2025-06-18T14:00:53.766287Z"
    }
   },
   "outputs": [
    {
     "name": "stdout",
     "output_type": "stream",
     "text": [
      "FirstName is 30 years old.\n"
     ]
    }
   ],
   "source": [
    "message = f\"{username} is {age} years old.\"\n",
    "print(message)"
   ]
  },
  {
   "cell_type": "markdown",
   "id": "cafc35cd-eb4f-4ae0-882c-ead3ba81a08f",
   "metadata": {},
   "source": [
    "## Check out the environments"
   ]
  },
  {
   "cell_type": "code",
   "execution_count": 18,
   "id": "4ce73505-26d6-4a37-9dad-246184dc221b",
   "metadata": {
    "execution": {
     "iopub.execute_input": "2025-06-18T14:00:53.800036Z",
     "iopub.status.busy": "2025-06-18T14:00:53.799844Z",
     "iopub.status.idle": "2025-06-18T14:00:54.806908Z",
     "shell.execute_reply": "2025-06-18T14:00:54.806054Z",
     "shell.execute_reply.started": "2025-06-18T14:00:53.800020Z"
    }
   },
   "outputs": [
    {
     "name": "stdout",
     "output_type": "stream",
     "text": [
      "/opt/conda/lib/python3.9/site-packages/conda/base/context.py:201: FutureWarning: Adding 'defaults' to channel list implicitly is deprecated and will be removed in 25.3. \n",
      "\n",
      "To remove this warning, please choose a default channel explicitly with conda's regular configuration system, e.g. by adding 'defaults' to the list of channels:\n",
      "\n",
      "  conda config --add channels defaults\n",
      "\n",
      "For more information see https://docs.conda.io/projects/conda/en/stable/user-guide/configuration/use-condarc.html\n",
      "\n",
      "  deprecated.topic(\n",
      "\n",
      "# conda environments:\n",
      "#\n",
      "mywebenv             * /home/f5b70555-e080-4a9b-a402-13053ac1b7a2/.conda/envs/mywebenv\n",
      "base                   /opt/conda\n",
      "anaconda-2022.05-py39   /opt/conda/envs/anaconda-2022.05-py39\n",
      "anaconda-2023.09       /opt/conda/envs/anaconda-2023.09\n",
      "anaconda-2024.02-py310   /opt/conda/envs/anaconda-2024.02-py310\n",
      "anaconda-ai-2023-11    /opt/conda/envs/anaconda-ai-2023-11\n",
      "anaconda-ai-2024.04-py310   /opt/conda/envs/anaconda-ai-2024.04-py310\n",
      "anaconda-panel-2023.05-py310   /opt/conda/envs/anaconda-panel-2023.05-py310\n",
      "jupyterlab             /opt/conda/envs/jupyterlab\n",
      "\n"
     ]
    }
   ],
   "source": [
    "! conda env list"
   ]
  },
  {
   "cell_type": "markdown",
   "id": "bf6321fc-4f50-4648-a7c2-611b284f0aa7",
   "metadata": {},
   "source": [
    "## What packages are installed?"
   ]
  },
  {
   "cell_type": "code",
   "execution_count": 19,
   "id": "03eee8e4-cdab-4182-8c92-161286eb698c",
   "metadata": {
    "execution": {
     "iopub.execute_input": "2025-06-18T14:00:54.819697Z",
     "iopub.status.busy": "2025-06-18T14:00:54.819479Z",
     "iopub.status.idle": "2025-06-18T14:00:55.730599Z",
     "shell.execute_reply": "2025-06-18T14:00:55.729898Z",
     "shell.execute_reply.started": "2025-06-18T14:00:54.819679Z"
    }
   },
   "outputs": [
    {
     "name": "stdout",
     "output_type": "stream",
     "text": [
      "# packages in environment at /home/f5b70555-e080-4a9b-a402-13053ac1b7a2/.conda/envs/mywebenv:\n",
      "#\n",
      "# Name                    Version                   Build  Channel\n",
      "_libgcc_mutex             0.1                        main  \n",
      "_openmp_mutex             5.1                       1_gnu  \n",
      "asttokens                 3.0.0           py312h06a4308_0  \n",
      "blas                      1.0                         mkl  \n",
      "bottleneck                1.4.2           py312ha883a20_0  \n",
      "bzip2                     1.0.8                h5eee18b_6  \n",
      "ca-certificates           2025.2.25            h06a4308_0  \n",
      "comm                      0.2.1           py312h06a4308_0  \n",
      "debugpy                   1.8.11          py312h6a678d5_0  \n",
      "decorator                 5.1.1              pyhd3eb1b0_0  \n",
      "executing                 0.8.3              pyhd3eb1b0_0  \n",
      "expat                     2.7.1                h6a678d5_0  \n",
      "intel-openmp              2023.1.0         hdb19cb5_46306  \n",
      "ipykernel                 6.29.5          py312h06a4308_1  \n",
      "ipython                   9.1.0           py312h06a4308_0  \n",
      "ipython_pygments_lexers   1.1.1           py312h06a4308_0  \n",
      "jedi                      0.19.2          py312h06a4308_0  \n",
      "jupyter_client            8.6.3           py312h06a4308_0  \n",
      "jupyter_core              5.7.2           py312h06a4308_0  \n",
      "ld_impl_linux-64          2.40                 h12ee557_0  \n",
      "libffi                    3.4.4                h6a678d5_1  \n",
      "libgcc-ng                 11.2.0               h1234567_1  \n",
      "libgomp                   11.2.0               h1234567_1  \n",
      "libsodium                 1.0.18               h7b6447c_0  \n",
      "libstdcxx-ng              11.2.0               h1234567_1  \n",
      "libuuid                   1.41.5               h5eee18b_0  \n",
      "matplotlib-inline         0.1.6           py312h06a4308_0  \n",
      "mkl                       2023.1.0         h213fc3f_46344  \n",
      "mkl-service               2.4.0           py312h5eee18b_2  \n",
      "mkl_fft                   1.3.11          py312h5eee18b_0  \n",
      "mkl_random                1.2.8           py312h526ad5a_0  \n",
      "ncurses                   6.4                  h6a678d5_0  \n",
      "nest-asyncio              1.6.0           py312h06a4308_0  \n",
      "numexpr                   2.10.1          py312h3c60e43_0  \n",
      "numpy                     2.0.1           py312hc5e2394_1  \n",
      "numpy-base                2.0.1           py312h0da6c21_1  \n",
      "openssl                   3.0.16               h5eee18b_0  \n",
      "packaging                 24.2            py312h06a4308_0  \n",
      "pandas                    2.2.3           py312h6a678d5_0  \n",
      "parso                     0.8.4           py312h06a4308_0  \n",
      "pexpect                   4.8.0              pyhd3eb1b0_3  \n",
      "pip                       25.1               pyhc872135_2  \n",
      "platformdirs              4.3.7           py312h06a4308_0  \n",
      "prompt-toolkit            3.0.43          py312h06a4308_0  \n",
      "prompt_toolkit            3.0.43               hd3eb1b0_0  \n",
      "psutil                    5.9.0           py312h5eee18b_1  \n",
      "ptyprocess                0.7.0              pyhd3eb1b0_2  \n",
      "pure_eval                 0.2.2              pyhd3eb1b0_0  \n",
      "pygments                  2.19.1          py312h06a4308_0  \n",
      "python                    3.12.9               h5148396_0  \n",
      "python-dateutil           2.9.0post0      py312h06a4308_2  \n",
      "python-tzdata             2025.2             pyhd3eb1b0_0  \n",
      "pytz                      2024.1          py312h06a4308_0  \n",
      "pyzmq                     26.2.0          py312h6a678d5_0  \n",
      "readline                  8.2                  h5eee18b_0  \n",
      "setuptools                78.1.1          py312h06a4308_0  \n",
      "six                       1.17.0          py312h06a4308_0  \n",
      "sqlite                    3.45.3               h5eee18b_0  \n",
      "stack_data                0.2.0              pyhd3eb1b0_0  \n",
      "tbb                       2021.8.0             hdb19cb5_0  \n",
      "tk                        8.6.14               h39e8969_0  \n",
      "tornado                   6.5             py312h5eee18b_0  \n",
      "traitlets                 5.14.3          py312h06a4308_0  \n",
      "tzdata                    2025b                h04d1e81_0  \n",
      "wcwidth                   0.2.5              pyhd3eb1b0_0  \n",
      "wheel                     0.45.1          py312h06a4308_0  \n",
      "xz                        5.6.4                h5eee18b_1  \n",
      "zeromq                    4.3.5                h6a678d5_0  \n",
      "zlib                      1.2.13               h5eee18b_1  \n"
     ]
    }
   ],
   "source": [
    "! conda list"
   ]
  },
  {
   "cell_type": "markdown",
   "id": "8ba14335-8f6a-43cc-9f4d-8119c5939643",
   "metadata": {},
   "source": [
    "## Add your own code below"
   ]
  }
 ],
 "metadata": {
  "kernelspec": {
   "display_name": ".conda-mywebenv",
   "language": "python",
   "name": "conda-env-.conda-mywebenv-py"
  },
  "language_info": {
   "codemirror_mode": {
    "name": "ipython",
    "version": 3
   },
   "file_extension": ".py",
   "mimetype": "text/x-python",
   "name": "python",
   "nbconvert_exporter": "python",
   "pygments_lexer": "ipython3",
   "version": "3.12.9"
  }
 },
 "nbformat": 4,
 "nbformat_minor": 5
}
